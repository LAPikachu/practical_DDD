{
 "cells": [
  {
   "cell_type": "code",
   "execution_count": 2,
   "metadata": {},
   "outputs": [],
   "source": [
    "import numpy as np"
   ]
  },
  {
   "cell_type": "code",
   "execution_count": 3,
   "metadata": {},
   "outputs": [],
   "source": [
    "def tau_crit(mu, b, alpha, L):\n",
    "    return alpha * mu * b / L "
   ]
  },
  {
   "cell_type": "code",
   "execution_count": 8,
   "metadata": {},
   "outputs": [
    {
     "name": "stdout",
     "output_type": "stream",
     "text": [
      "9.746406151682139e-08\n"
     ]
    }
   ],
   "source": [
    "scale_factor = 1.2183007689602674e-9\n",
    "box_size = 2464 * scale_factor \n",
    "alpha = 0.5\n",
    "mu = 42\n",
    "b = 2.5525e-10\n",
    "L = 119e-9\n",
    "print(L)"
   ]
  },
  {
   "cell_type": "code",
   "execution_count": 5,
   "metadata": {},
   "outputs": [
    {
     "name": "stdout",
     "output_type": "stream",
     "text": [
      "0.05499719503352394\n"
     ]
    }
   ],
   "source": [
    "print(tau_crit(mu, b, alpha, L))"
   ]
  },
  {
   "cell_type": "code",
   "execution_count": 11,
   "metadata": {},
   "outputs": [
    {
     "name": "stdout",
     "output_type": "stream",
     "text": [
      "1.1936859115303753e-07\n"
     ]
    }
   ],
   "source": [
    "# rho in graph.txt\n",
    "rho = 0.44127e10\n",
    "segment_length = rho * box_size**3\n",
    "print(segment_length)"
   ]
  },
  {
   "cell_type": "code",
   "execution_count": 10,
   "metadata": {},
   "outputs": [
    {
     "name": "stdout",
     "output_type": "stream",
     "text": [
      "1.1695687382018568e-07\n"
     ]
    }
   ],
   "source": [
    "segment_number = 96\n",
    "print(segment_number * scale_factor)"
   ]
  }
 ],
 "metadata": {
  "kernelspec": {
   "display_name": "base",
   "language": "python",
   "name": "python3"
  },
  "language_info": {
   "codemirror_mode": {
    "name": "ipython",
    "version": 3
   },
   "file_extension": ".py",
   "mimetype": "text/x-python",
   "name": "python",
   "nbconvert_exporter": "python",
   "pygments_lexer": "ipython3",
   "version": "3.11.0"
  }
 },
 "nbformat": 4,
 "nbformat_minor": 2
}
