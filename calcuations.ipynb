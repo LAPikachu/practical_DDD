{
 "cells": [
  {
   "cell_type": "code",
   "execution_count": 2,
   "metadata": {},
   "outputs": [],
   "source": [
    "import numpy as np"
   ]
  },
  {
   "cell_type": "code",
   "execution_count": 3,
   "metadata": {},
   "outputs": [],
   "source": [
    "def tau_crit(mu, b, alpha, L):\n",
    "    return alpha * mu * b / L "
   ]
  },
  {
   "cell_type": "code",
   "execution_count": 4,
   "metadata": {},
   "outputs": [
    {
     "name": "stdout",
     "output_type": "stream",
     "text": [
      "1.19e-07\n"
     ]
    }
   ],
   "source": [
    "scale_factor = 1.2183007689602674e-9\n",
    "box_length = 2464 * scale_factor \n",
    "alpha = 0.5\n",
    "mu = 42 # GPa\n",
    "b = 2.5525e-10 #m\n",
    "L = 119e-9 #m\n",
    "print(L)"
   ]
  },
  {
   "cell_type": "code",
   "execution_count": 9,
   "metadata": {},
   "outputs": [
    {
     "data": {
      "text/plain": [
       "19.93830774132899"
      ]
     },
     "execution_count": 9,
     "metadata": {},
     "output_type": "execute_result"
    }
   ],
   "source": [
    "# rho in graph.txt assuming length of 20 in BVD unit length\n",
    "rho = 0.44127e10 # segment types 1\n",
    "rho_2 = 0.25477E+10 # segment types 2\n",
    "rho_3 = 0.77222e10\n",
    "segment_length = rho * box_length**3\n",
    "segment_length_2 = rho_2 * box_length**3\n",
    "segment_length_3 = rho_3 * box_length**3\n",
    "119e-9/(segment_length_3/35)\n"
   ]
  },
  {
   "cell_type": "code",
   "execution_count": 35,
   "metadata": {},
   "outputs": [
    {
     "name": "stdout",
     "output_type": "stream",
     "text": [
      "1.1936859115303753e-07 1.2060482851694034e-07\n"
     ]
    }
   ],
   "source": [
    "#adjusting segments length according to different orientation\n",
    "bvd_length = 20 # type 3,7\n",
    "bvd_length_2 = 35 #type 1,2,4,5,6,8\n",
    "\n",
    "\n",
    "rho = 0.44127e10\n",
    "rho_2 =  0.44584e10\n",
    "\n",
    "segment_length = rho * box_length**3\n",
    "segment_length_2 = rho_2 * box_length**3\n",
    "segment_length_3 = rho_3 * box_length**3\n",
    "print(segment_length, segment_length_2, segment_length_3)\n"
   ]
  },
  {
   "cell_type": "code",
   "execution_count": 5,
   "metadata": {},
   "outputs": [
    {
     "name": "stdout",
     "output_type": "stream",
     "text": [
      "1.1695687382018568e-07\n"
     ]
    }
   ],
   "source": [
    "segment_number = 96\n",
    "print(segment_number * scale_factor)"
   ]
  },
  {
   "cell_type": "code",
   "execution_count": 6,
   "metadata": {},
   "outputs": [
    {
     "name": "stdout",
     "output_type": "stream",
     "text": [
      "0.8158667972575904\n"
     ]
    }
   ],
   "source": [
    "#Recalculate alpha with tau_crit = 73.5 MPa\n",
    "\n",
    "def alpha(tau_crit, mu, b, L):\n",
    "    return tau_crit*L/(mu*b)\n",
    "print(alpha(tau_crit=0.0735, mu=mu, b=b, L=L))"
   ]
  },
  {
   "cell_type": "code",
   "execution_count": 20,
   "metadata": {},
   "outputs": [
    {
     "data": {
      "text/plain": [
       "4412700000.0"
      ]
     },
     "execution_count": 20,
     "metadata": {},
     "output_type": "execute_result"
    }
   ],
   "source": [
    "density_per_segment = rho/20\n",
    "density_per_segment * 20\n",
    "      \n",
    "    "
   ]
  }
 ],
 "metadata": {
  "kernelspec": {
   "display_name": "Python 3 (ipykernel)",
   "language": "python",
   "name": "python3"
  },
  "language_info": {
   "codemirror_mode": {
    "name": "ipython",
    "version": 3
   },
   "file_extension": ".py",
   "mimetype": "text/x-python",
   "name": "python",
   "nbconvert_exporter": "python",
   "pygments_lexer": "ipython3",
   "version": "3.11.7"
  }
 },
 "nbformat": 4,
 "nbformat_minor": 4
}
