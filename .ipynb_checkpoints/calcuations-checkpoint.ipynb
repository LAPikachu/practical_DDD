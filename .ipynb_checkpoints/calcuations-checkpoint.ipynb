{
 "cells": [
  {
   "cell_type": "code",
   "execution_count": 4,
   "metadata": {},
   "outputs": [],
   "source": [
    "import numpy as np"
   ]
  },
  {
   "cell_type": "code",
   "execution_count": 3,
   "metadata": {},
   "outputs": [],
   "source": [
    "def tau_crit(mu, b, alpha, L):\n",
    "    return alpha * mu * b / L "
   ]
  },
  {
   "cell_type": "code",
   "execution_count": 12,
   "metadata": {},
   "outputs": [
    {
     "name": "stdout",
     "output_type": "stream",
     "text": [
      "1.19e-07\n"
     ]
    }
   ],
   "source": [
    "scale_factor = 1.2183007689602674e-9\n",
    "box_size = 2464 * scale_factor \n",
    "alpha = 0.5\n",
    "mu = 42 # GPa\n",
    "b = 2.5525e-10 #m\n",
    "L = 119e-9 #m\n",
    "print(L)"
   ]
  },
  {
   "cell_type": "code",
   "execution_count": 13,
   "metadata": {},
   "outputs": [
    {
     "name": "stdout",
     "output_type": "stream",
     "text": [
      "0.04504411764705883\n"
     ]
    }
   ],
   "source": [
    "print(tau_crit(mu, b, alpha, L))"
   ]
  },
  {
   "cell_type": "code",
   "execution_count": 11,
   "metadata": {},
   "outputs": [
    {
     "name": "stdout",
     "output_type": "stream",
     "text": [
      "1.1936859115303753e-07\n"
     ]
    }
   ],
   "source": [
    "# rho in graph.txt\n",
    "rho = 0.44127e10\n",
    "segment_length = rho * box_size**3\n",
    "print(segment_length)"
   ]
  },
  {
   "cell_type": "code",
   "execution_count": 10,
   "metadata": {},
   "outputs": [
    {
     "name": "stdout",
     "output_type": "stream",
     "text": [
      "1.1695687382018568e-07\n"
     ]
    }
   ],
   "source": [
    "segment_number = 96\n",
    "print(segment_number * scale_factor)"
   ]
  },
  {
   "cell_type": "code",
   "execution_count": 3,
   "metadata": {},
   "outputs": [
    {
     "ename": "NameError",
     "evalue": "name 'mu' is not defined",
     "output_type": "error",
     "traceback": [
      "\u001b[1;31m---------------------------------------------------------------------------\u001b[0m",
      "\u001b[1;31mNameError\u001b[0m                                 Traceback (most recent call last)",
      "Cell \u001b[1;32mIn[3], line 5\u001b[0m\n\u001b[0;32m      3\u001b[0m \u001b[38;5;28;01mdef\u001b[39;00m \u001b[38;5;21malpha\u001b[39m(tau_crit, mu, b, L):\n\u001b[0;32m      4\u001b[0m     \u001b[38;5;28;01mreturn\u001b[39;00m tau_crit\u001b[38;5;241m*\u001b[39mL\u001b[38;5;241m/\u001b[39m(mu\u001b[38;5;241m*\u001b[39mb)\n\u001b[1;32m----> 5\u001b[0m \u001b[38;5;28mprint\u001b[39m(alpha(tau_crit\u001b[38;5;241m=\u001b[39m\u001b[38;5;241m73.5\u001b[39m, mu\u001b[38;5;241m=\u001b[39mmu, b\u001b[38;5;241m=\u001b[39mb, L\u001b[38;5;241m=\u001b[39mL))\n",
      "\u001b[1;31mNameError\u001b[0m: name 'mu' is not defined"
     ]
    }
   ],
   "source": [
    "#Recalculate alpha with tau_crit = 73.5 MPa\n",
    "\n",
    "def alpha(tau_crit, mu, b, L):\n",
    "    return tau_crit*L/(mu*b)\n",
    "print(alpha(tau_crit=0.0735, mu=mu, b=b, L=L))"
   ]
  }
 ],
 "metadata": {
  "kernelspec": {
   "display_name": "Python 3 (ipykernel)",
   "language": "python",
   "name": "python3"
  },
  "language_info": {
   "codemirror_mode": {
    "name": "ipython",
    "version": 3
   },
   "file_extension": ".py",
   "mimetype": "text/x-python",
   "name": "python",
   "nbconvert_exporter": "python",
   "pygments_lexer": "ipython3",
   "version": "3.11.7"
  }
 },
 "nbformat": 4,
 "nbformat_minor": 4
}
