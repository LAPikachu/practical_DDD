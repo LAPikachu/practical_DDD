{
 "cells": [
  {
   "cell_type": "code",
   "execution_count": 1,
   "metadata": {},
   "outputs": [
    {
     "data": {
      "text/plain": [
       "<pandas._config.config.option_context at 0x1dcd85e6b90>"
      ]
     },
     "execution_count": 1,
     "metadata": {},
     "output_type": "execute_result"
    }
   ],
   "source": [
    "import matplotlib.pyplot as plt\n",
    "import numpy as np\n",
    "import seaborn as sns\n",
    "import pandas as pd\n",
    "%matplotlib inline\n",
    "pd.option_context('mode.use_inf_as_na', True)\n"
   ]
  },
  {
   "cell_type": "code",
   "execution_count": 2,
   "metadata": {},
   "outputs": [],
   "source": [
    "file_path = 'dd/resultats/task_1_8/graph.txt'\n",
    "df = pd.read_csv(file_path, delim_whitespace=True, header=0)\n",
    "list_2 = df['RHO_TOT'].values.tolist()\n",
    "list_1 = df['TAU'].values.tolist()\n",
    "array = np.column_stack([list_1, list_2])\n"
   ]
  },
  {
   "cell_type": "code",
   "execution_count": 3,
   "metadata": {},
   "outputs": [],
   "source": [
    "def find_elbow(data: np.array, theta: float) -> int: \n",
    "    '''\n",
    "    finds the elbow - where data deviates form linear behavior\n",
    "    returns int index where point is in np.array[:,0]\n",
    "    '''\n",
    "    # make rotation matrix\n",
    "    co = np.cos(theta)\n",
    "    si = np.sin(theta)\n",
    "    rotation_matrix = np.array(((co, -si), (si, co)))\n",
    "\n",
    "    # rotate data vector\n",
    "    rotated_vector = data.dot(rotation_matrix)\n",
    "\n",
    "    # return index of elbow\n",
    "    return np.where(rotated_vector == rotated_vector[:, 1].min())[0][0]\n",
    "    \n",
    "def get_data_radiant(data):\n",
    "  return np.arctan2(data[:, 1].max() - data[:, 1].min(), \n",
    "                    data[:, 0].max() - data[:, 0].min())\n"
   ]
  },
  {
   "cell_type": "code",
   "execution_count": 4,
   "metadata": {},
   "outputs": [],
   "source": [
    "theta = get_data_radiant(array)\n",
    "elbow_index = find_elbow(array, theta)\n",
    "tau_crit, rho_crit = (array[elbow_index,0], array[elbow_index,1])\n",
    "\n",
    "\n"
   ]
  },
  {
   "cell_type": "code",
   "execution_count": 5,
   "metadata": {},
   "outputs": [
    {
     "data": {
      "image/png": "[encoded data removed]",
      "text/plain": [
       "<Figure size 640x480 with 1 Axes>"
      ]
     },
     "metadata": {},
     "output_type": "display_data"
    }
   ],
   "source": [
    "plt.rcParams['text.usetex'] = True #to render LaTeX output\n",
    "fig, ax = plt.subplots()\n",
    "ax.plot(df['TAU'][1:], df['RHO_TOT'][1:], '.')\n",
    "ax.set_xlabel(r\"$\\tau$ in MPa\")\n",
    "ax.set_ylabel(r\"$\\rho$ in $\\frac{1}{m^2}$ \")\n",
    "\n",
    "ax.text(65, 1e10, \"\\\\(\\\\tau_{crit} =\\\\) {t_crit}\".format(crit='{crit}', t_crit=tau_crit)) #hack to escape key {crit} not found error\n",
    "\n",
    "fig.savefig('report/graphics/plot_tau_crit_L_100nm')"
   ]
  },
  {
   "cell_type": "code",
   "execution_count": 10,
   "metadata": {},
   "outputs": [
    {
     "name": "stdout",
     "output_type": "stream",
     "text": [
      "[164.5, 73.5]\n"
     ]
    }
   ],
   "source": [
    "#extracting of tau_crit from graph_*.txt\n",
    "base_path = 'dd/resultats/task_2/graph_'\n",
    "graph_names = ['59_5.txt', '119.txt']\n",
    "\n",
    "tau_crits_list = []\n",
    "rho_crits_list = []\n",
    "\n",
    "for graph_name in graph_names:\n",
    "    file_path = base_path + graph_name\n",
    "    df = pd.read_csv(file_path, delim_whitespace=True, header=0)\n",
    "    list_2 = df['RHO_TOT'].values.tolist()\n",
    "    list_1 = df['TAU'].values.tolist()\n",
    "    array = np.column_stack([list_1, list_2])\n",
    "    theta = get_data_radiant(array)\n",
    "    elbow_index = find_elbow(array, theta)\n",
    "    tau_crit, rho_crit = (array[elbow_index,0], array[elbow_index,1])\n",
    "    tau_crits_list.append(tau_crit)\n",
    "    rho_crits_list.append(rho_crit)\n",
    "\n",
    "print(tau_crits_list)\n"
   ]
  },
  {
   "cell_type": "code",
   "execution_count": null,
   "metadata": {},
   "outputs": [],
   "source": [
    "#calculation on theoretical tau_crits\n",
    "alpha = 0.8158667972575904 #fitted for tau_crit=73.5 MPa L=119 nm\n",
    "mu = 42 # GPa\n",
    "b = 2.5525e-10 #m\n",
    "L = 119e-9 #m\n",
    "def tau_crit(mu, b, alpha, L):\n",
    "    return alpha * mu * b / L"
   ]
  },
  {
   "cell_type": "code",
   "execution_count": null,
   "metadata": {},
   "outputs": [],
   "source": [
    "tau_crit_list=[] #in GPa\n",
    "length_list = [L/2, L, 1.5*L, 2*L] #in m\n",
    "for L_i in length_list:\n",
    "    tau_crit_i = tau_crit(mu=mu, b=b, alpha=alpha, L=L_i)\n",
    "    tau_crit_list.append(tau_crit_i)"
   ]
  },
  {
   "cell_type": "code",
   "execution_count": null,
   "metadata": {},
   "outputs": [],
   "source": [
    "plt.rcParams['text.usetex'] = True #to render LaTeX output\n",
    "fig, ax = plt.subplots()\n",
    "ax.plot(length_list, tau_crit_list, '.')\n",
    "ax.set_xlabel(r\"L in m\")\n",
    "ax.set_ylabel(r\"$\\tau_{crit}$ in GPa \")"
   ]
  }
 ],
 "metadata": {
  "kernelspec": {
   "display_name": "Python 3 (ipykernel)",
   "language": "python",
   "name": "python3"
  },
  "language_info": {
   "codemirror_mode": {
    "name": "ipython",
    "version": 3
   },
   "file_extension": ".py",
   "mimetype": "text/x-python",
   "name": "python",
   "nbconvert_exporter": "python",
   "pygments_lexer": "ipython3",
   "version": "3.11.7"
  }
 },
 "nbformat": 4,
 "nbformat_minor": 4
}
