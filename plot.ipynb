{
 "cells": [
  {
   "cell_type": "code",
   "execution_count": 4,
   "metadata": {},
   "outputs": [],
   "source": [
    "import matplotlib.pyplot as plt\n",
    "import numpy as np\n",
    "import pandas as pd"
   ]
  },
  {
   "cell_type": "code",
   "execution_count": 58,
   "metadata": {},
   "outputs": [
    {
     "name": "stdout",
     "output_type": "stream",
     "text": [
      "[[4.8750e+01 5.5366e+09]\n",
      " [4.9500e+01 5.6049e+09]\n",
      " [5.0250e+01 5.6049e+09]\n",
      " [5.1000e+01 5.6049e+09]\n",
      " [5.1750e+01 5.7914e+09]\n",
      " [5.2500e+01 5.7914e+09]\n",
      " [5.3250e+01 5.7914e+09]\n",
      " [5.4000e+01 5.8597e+09]\n",
      " [5.4750e+01 5.8597e+09]\n",
      " [5.5500e+01 6.0462e+09]\n",
      " [5.6250e+01 6.0462e+09]\n",
      " [5.7000e+01 6.0462e+09]\n",
      " [5.7750e+01 6.0803e+09]\n",
      " [5.8500e+01 6.1144e+09]\n",
      " [5.9250e+01 6.1144e+09]\n",
      " [6.0000e+01 6.3009e+09]\n",
      " [6.0750e+01 6.3009e+09]\n",
      " [6.1500e+01 6.1144e+09]\n",
      " [6.2250e+01 6.1144e+09]\n",
      " [6.3000e+01 6.3692e+09]\n",
      " [6.3750e+01 6.3692e+09]\n",
      " [6.4500e+01 6.5557e+09]\n",
      " [6.5250e+01 6.3692e+09]\n",
      " [6.6000e+01 6.6240e+09]\n",
      " [6.6750e+01 6.6240e+09]\n",
      " [6.7500e+01 6.6240e+09]\n",
      " [6.8250e+01 6.6240e+09]\n",
      " [6.9000e+01 6.6240e+09]\n",
      " [6.9750e+01 6.8787e+09]\n",
      " [7.0500e+01 6.8787e+09]\n",
      " [7.1250e+01 6.8787e+09]\n",
      " [7.2000e+01 7.0652e+09]\n",
      " [7.2750e+01 7.0652e+09]\n",
      " [7.3500e+01 7.3541e+09]\n",
      " [7.4250e+01 9.1034e+09]\n",
      " [7.5000e+01 1.1396e+10]\n",
      " [7.5750e+01 1.4012e+10]\n",
      " [7.6500e+01 1.7188e+10]\n",
      " [7.7250e+01 2.0975e+10]\n",
      " [7.8000e+01 2.5051e+10]\n",
      " [7.8750e+01 3.0197e+10]\n",
      " [7.9500e+01 3.5242e+10]\n",
      " [8.0250e+01 4.1475e+10]\n",
      " [8.1000e+01 5.1140e+10]\n",
      " [8.1750e+01 6.3658e+10]\n",
      " [8.2500e+01 7.9537e+10]]\n"
     ]
    }
   ],
   "source": [
    "df = pd.read_csv('dd/resultats/task_1_8/graph.txt', delim_whitespace=True, header=0)\n",
    "list_2 = df['RHO_TOT'].values.tolist()\n",
    "list_1 = df['TAU'].values.tolist()\n",
    "array = np.column_stack([list_1[5:], list_2[5:]])\n",
    "print(array)"
   ]
  },
  {
   "cell_type": "code",
   "execution_count": 45,
   "metadata": {},
   "outputs": [],
   "source": [
    "def find_elbow(data, theta):\n",
    "\n",
    "    # make rotation matrix\n",
    "    co = np.cos(theta)\n",
    "    si = np.sin(theta)\n",
    "    rotation_matrix = np.array(((co, -si), (si, co)))\n",
    "\n",
    "    # rotate data vector\n",
    "    rotated_vector = data.dot(rotation_matrix)\n",
    "\n",
    "    # return index of elbow\n",
    "    return np.where(rotated_vector == rotated_vector[:, 1].min())[0][0]\n",
    "    \n",
    "def get_data_radiant(data):\n",
    "  return np.arctan2(data[:, 1].max() - data[:, 1].min(), \n",
    "                    data[:, 0].max() - data[:, 0].min())\n"
   ]
  }
 ],
 "metadata": {
  "kernelspec": {
   "display_name": "Python 3 (ipykernel)",
   "language": "python",
   "name": "python3"
  },
  "language_info": {
   "codemirror_mode": {
    "name": "ipython",
    "version": 3
   },
   "file_extension": ".py",
   "mimetype": "text/x-python",
   "name": "python",
   "nbconvert_exporter": "python",
   "pygments_lexer": "ipython3",
   "version": "3.11.7"
  }
 },
 "nbformat": 4,
 "nbformat_minor": 4
}
